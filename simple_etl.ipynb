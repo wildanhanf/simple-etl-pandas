{
  "nbformat": 4,
  "nbformat_minor": 0,
  "metadata": {
    "colab": {
      "provenance": []
    },
    "kernelspec": {
      "name": "python3",
      "display_name": "Python 3"
    },
    "language_info": {
      "name": "python"
    }
  },
  "cells": [
    {
      "cell_type": "markdown",
      "source": [
        "# Import library"
      ],
      "metadata": {
        "id": "eYAikSrg9PUX"
      }
    },
    {
      "cell_type": "code",
      "execution_count": 3,
      "metadata": {
        "id": "S8Exu3nr2rXJ"
      },
      "outputs": [],
      "source": [
        "import pandas as pd"
      ]
    },
    {
      "cell_type": "markdown",
      "source": [
        "# Extract process\n",
        " Read (.csv) File from Google Drive\n",
        " "
      ],
      "metadata": {
        "id": "5M5KL_pL540d"
      }
    },
    {
      "cell_type": "code",
      "source": [
        "from google.colab import drive \n",
        "drive.mount('/content/gdrive')\n",
        "\n",
        "df_participant = pd.read_csv('gdrive/My Drive/dqthon-participants.csv')"
      ],
      "metadata": {
        "colab": {
          "base_uri": "https://localhost:8080/"
        },
        "id": "vPA49Wi-6Tsj",
        "outputId": "aa2103ed-b8a9-433f-ec02-b6f26c25cd7f"
      },
      "execution_count": 2,
      "outputs": [
        {
          "output_type": "stream",
          "name": "stdout",
          "text": [
            "Mounted at /content/gdrive\n"
          ]
        }
      ]
    },
    {
      "cell_type": "markdown",
      "source": [
        "# Dataset dqthon-participants.csv"
      ],
      "metadata": {
        "id": "XS6lvbJU54W3"
      }
    },
    {
      "cell_type": "code",
      "source": [
        "print(df_participant)"
      ],
      "metadata": {
        "colab": {
          "base_uri": "https://localhost:8080/"
        },
        "id": "oURvBGsc7I_Q",
        "outputId": "96bc543b-ee6b-41e8-8bd0-df06fa09adb9"
      },
      "execution_count": 4,
      "outputs": [
        {
          "output_type": "stream",
          "name": "stdout",
          "text": [
            "                            participant_id first_name   last_name  \\\n",
            "0     bd9b6f88-b84f-4c4d-90f8-b67fe2f1a29a      Citra  Nurdiyanti   \n",
            "1     7dfe3391-6f40-47b6-b4db-0c76ebaf5fc3       Aris    Setiawan   \n",
            "2     19582d7f-b824-4fe5-a517-d5bf573fc768   Cornelia   Handayani   \n",
            "3     aeb6d817-25f3-4867-8a74-8d92e0a0f633      Soleh      Rajasa   \n",
            "4     1fdabdd9-5444-4c97-87b2-fe8833ad0d27       Vivi      Astuti   \n",
            "...                                    ...        ...         ...   \n",
            "4995  5f084245-58cb-4360-8cff-112f06f7214e      Mitra    Latupono   \n",
            "4996  fc6e142a-3f66-4330-9975-8c1dc7f9bb03      Indah   Rahmawati   \n",
            "4997  4521ff9f-4aec-401b-84aa-a4e6fc6549a4      Irsad    Najmudin   \n",
            "4998  1c91596e-427c-44a7-b7d0-974f44e18381      Carla    Nasyidah   \n",
            "4999  5d682e84-bcb5-43e9-8ce0-615364f5376a    Darmana     Maryadi   \n",
            "\n",
            "       birth_date                                            address  \\\n",
            "0     05 Feb 1991           Gg. Monginsidi No. 08\\nMedan, Aceh 80734   \n",
            "1     11 Jan 1993     Gg. Rajawali Timur No. 7\\nPrabumulih, MA 09434   \n",
            "2     31 Jul 1993             Jalan Kebonjati No. 0\\nAmbon, SS 57739   \n",
            "3     04 Nov 1991    Jl. Yos Sudarso No. 109\\nLubuklinggau, SR 76156   \n",
            "4     22 Jan 2003  Jalan Gardujati No. 53\\nKediri, Sulawesi Tenga...   \n",
            "...           ...                                                ...   \n",
            "4995  27 Apr 2000            Jl. Monginsidi No. 5\\nCirebon, BB 50268   \n",
            "4996  06 Mar 1996              Gang Joyoboyo No. 73\\nBogor, BT 57434   \n",
            "4997  14 Feb 2003   Jalan PHH. Mustofa No. 0\\nTanjungbalai, MU 95312   \n",
            "4998  22 Aug 1994  Jl. H.J Maemunah No. 955\\nManado, Kepulauan Ba...   \n",
            "4999  09 Feb 2002  Jalan Erlangga No. 76\\nBontang, Sulawesi Tengg...   \n",
            "\n",
            "             phone_number      country                            institute  \\\n",
            "0         (0151) 081 2706      Georgia                 UD Prakasa Mandasari   \n",
            "1      +62 (036) 461 7027  Korea Utara               Universitas Diponegoro   \n",
            "2            089 833 6695       Komoro             UD Hardiansyah Puspasari   \n",
            "3      +62 (418) 329-4756      Eritrea            Perum Tampubolon Yuliarti   \n",
            "4               812511835     Aljazair               PT Hardiansyah Rahimah   \n",
            "...                   ...          ...                                  ...   \n",
            "4995   +62 (050) 795-8398     Hongaria  Institut Teknologi Sepuluh Nopember   \n",
            "4996  +62 (0443) 963 0055     Norwegia                   CV Safitri Hastuti   \n",
            "4997  +62 (0408) 216-7689        Ghana   Universitas Katolik Widya Manadala   \n",
            "4998  +62 (0751) 380 3352       Gambia                           CV Permadi   \n",
            "4999   +62 (066) 414 8791    Singapura             Perum Laksita Kuswandari   \n",
            "\n",
            "                          occupation  register_time  \n",
            "0     Business Intelligence Engineer     1617634046  \n",
            "1                  Frontend Engineer     1617634018  \n",
            "2                   Business Analyst     1617634035  \n",
            "3                    DevOps Engineer     1617634034  \n",
            "4                       Data Analyst     1617634010  \n",
            "...                              ...            ...  \n",
            "4995  Business Intelligence Engineer     1617633976  \n",
            "4996                   Data Engineer     1617634008  \n",
            "4997              Fullstack Engineer     1617633966  \n",
            "4998              Fullstack Engineer     1617634005  \n",
            "4999                 DevOps Engineer     1617634011  \n",
            "\n",
            "[5000 rows x 10 columns]\n"
          ]
        }
      ]
    },
    {
      "cell_type": "markdown",
      "source": [
        "# Transform: I\n",
        "There was a request that they needed the postal code of the participants to make sending trophies easier and faster. Therefore, create a new column named postal_code which contains information about the postal code taken from the participant's address (address column).\n",
        "\n",
        "Note that the zip code is at the very end of the address."
      ],
      "metadata": {
        "id": "CIMtUIXg53I6"
      }
    },
    {
      "cell_type": "code",
      "source": [
        "df_participant['postal_code'] = df_participant['address'].str.extract(r'(\\d+)$') \n",
        "print(df_participant['postal_code'].head(20))"
      ],
      "metadata": {
        "colab": {
          "base_uri": "https://localhost:8080/"
        },
        "id": "KHwHwgAi53kb",
        "outputId": "0e1038c1-c9d7-4e02-cd36-c74ec77db038"
      },
      "execution_count": 7,
      "outputs": [
        {
          "output_type": "stream",
          "name": "stdout",
          "text": [
            "0     80734\n",
            "1     09434\n",
            "2     57739\n",
            "3     76156\n",
            "4     70074\n",
            "5     00880\n",
            "6     48108\n",
            "7     64255\n",
            "8     89056\n",
            "9     51825\n",
            "10    18717\n",
            "11    40721\n",
            "12    40645\n",
            "13    12174\n",
            "14    46071\n",
            "15    29328\n",
            "16    15807\n",
            "17    31450\n",
            "18    30846\n",
            "19    80904\n",
            "Name: postal_code, dtype: object\n"
          ]
        }
      ]
    },
    {
      "cell_type": "markdown",
      "source": [
        "# Transform: II\n",
        "create a new column named city which is obtained from the address column. It is assumed that the city is a set of characters that appear after the street number followed by \\n (newline character)."
      ],
      "metadata": {
        "id": "325EzdOw6GxE"
      }
    },
    {
      "cell_type": "code",
      "source": [
        "df_participant['city'] = df_participant['address'].str.extract(r'(?<=\\n)(\\w.+)(?=,)') \n",
        "print(df_participant['city'].head(20))"
      ],
      "metadata": {
        "colab": {
          "base_uri": "https://localhost:8080/"
        },
        "id": "C23dBc-h6G3Y",
        "outputId": "89239bf9-fedf-49bf-b58d-de12fe04f031"
      },
      "execution_count": 8,
      "outputs": [
        {
          "output_type": "stream",
          "name": "stdout",
          "text": [
            "0                               Medan\n",
            "1                          Prabumulih\n",
            "2                               Ambon\n",
            "3                        Lubuklinggau\n",
            "4                              Kediri\n",
            "5                            Denpasar\n",
            "6                           Samarinda\n",
            "7                            Parepare\n",
            "8                               Medan\n",
            "9                              Bitung\n",
            "10                             Kediri\n",
            "11                            Bau-Bau\n",
            "12                          Gorontalo\n",
            "13                              Batam\n",
            "14                          Pagaralam\n",
            "15                   Tidore Kepulauan\n",
            "16    Kota Administrasi Jakarta Barat\n",
            "17                            Tarakan\n",
            "18                              Depok\n",
            "19                       Palangkaraya\n",
            "Name: city, dtype: object\n"
          ]
        }
      ]
    },
    {
      "cell_type": "markdown",
      "source": [
        "# Transform: III\n",
        "create a new column named github_profile which is the participant's github profile link. Note that their github profile is a lowercased concatenation of first_name and last_name.\n"
      ],
      "metadata": {
        "id": "DgLsD2wn6KX7"
      }
    },
    {
      "cell_type": "code",
      "source": [
        "df_participant['github_profile'] = 'https://github.com/' + df_participant['first_name'].str.lower() + df_participant['last_name'].str.lower()\n",
        "print(df_participant['github_profile'].head(20))"
      ],
      "metadata": {
        "colab": {
          "base_uri": "https://localhost:8080/"
        },
        "id": "dCabgumx6KkD",
        "outputId": "8b52700a-44ea-4e5e-bec5-1e44a7b92dbd"
      },
      "execution_count": 9,
      "outputs": [
        {
          "output_type": "stream",
          "name": "stdout",
          "text": [
            "0         https://github.com/citranurdiyanti\n",
            "1            https://github.com/arissetiawan\n",
            "2       https://github.com/corneliahandayani\n",
            "3             https://github.com/solehrajasa\n",
            "4              https://github.com/viviastuti\n",
            "5     https://github.com/bahuraksamangunsong\n",
            "6            https://github.com/tiaramaryati\n",
            "7            https://github.com/dimazgunarto\n",
            "8           https://github.com/zizipuspasari\n",
            "9           https://github.com/cecepharyanto\n",
            "10          https://github.com/vanyayuliarti\n",
            "11           https://github.com/yahyadamanik\n",
            "12         https://github.com/nataliahartati\n",
            "13         https://github.com/karjasihombing\n",
            "14             https://github.com/mariautami\n",
            "15          https://github.com/kalimsimbolon\n",
            "16           https://github.com/keziawahyuni\n",
            "17         https://github.com/saifuldongoran\n",
            "18               https://github.com/aniutami\n",
            "19         https://github.com/heruanggriawan\n",
            "Name: github_profile, dtype: object\n"
          ]
        }
      ]
    },
    {
      "cell_type": "markdown",
      "source": [
        "# Transform: IV\n",
        "phone_number column is very inconsistent. Therefore, we need to clean the cellphone number data so that it has the same format. Given format rules:\n",
        "1. If the HP number prefix is the number 62 or +62 which is the Indonesian telephone code, then it is translated to 0.\n",
        "2. No punctuation such as opening bracket, closing bracket, dash⟶ ()-\n",
        "3. There is no space in the column name for the cell phone number to store the cleaning results for the cell phone number, namely **cleaned_phone_number**\n",
        "\n"
      ],
      "metadata": {
        "id": "pgTMZL3l6SrN"
      }
    },
    {
      "cell_type": "code",
      "source": [
        "#Masukkan regex anda pada parameter pertama dari fungsi replace\n",
        "# Melakukan data cleansing pada kolom 'phone_number'\n",
        "df_participant['cleaned_phone_number'] = df_participant['phone_number'].str.replace(r'^(\\+62|62)', '0')\n",
        "df_participant['cleaned_phone_number'] = df_participant['cleaned_phone_number'].str.replace(r'[()-]', '')\n",
        "df_participant['cleaned_phone_number'] = df_participant['cleaned_phone_number'].str.replace(r'\\s+', '')\n",
        "print(df_participant['cleaned_phone_number'].head(20))"
      ],
      "metadata": {
        "colab": {
          "base_uri": "https://localhost:8080/"
        },
        "id": "ujq0yUZG6Sym",
        "outputId": "ac20958d-782e-419b-e8b1-f94a890eed5d"
      },
      "execution_count": 12,
      "outputs": [
        {
          "output_type": "stream",
          "name": "stdout",
          "text": [
            "0     01510812706\n",
            "1     00364617027\n",
            "2      0898336695\n",
            "3     04183294756\n",
            "4       812511835\n",
            "5      0113697082\n",
            "6     02444307220\n",
            "7     00569319059\n",
            "8      0118261289\n",
            "9      0861561327\n",
            "10    00045616831\n",
            "11    03040751010\n",
            "12    07667384901\n",
            "13     0579263059\n",
            "14    04476081087\n",
            "15     0930630588\n",
            "16    08572635384\n",
            "17    06313638240\n",
            "18    07835295810\n",
            "19     0835045393\n",
            "Name: cleaned_phone_number, dtype: object\n"
          ]
        },
        {
          "output_type": "stream",
          "name": "stderr",
          "text": [
            "<ipython-input-12-9feed73d5c7e>:3: FutureWarning: The default value of regex will change from True to False in a future version.\n",
            "  df_participant['cleaned_phone_number'] = df_participant['phone_number'].str.replace(r'^(\\+62|62)', '0')\n",
            "<ipython-input-12-9feed73d5c7e>:4: FutureWarning: The default value of regex will change from True to False in a future version.\n",
            "  df_participant['cleaned_phone_number'] = df_participant['cleaned_phone_number'].str.replace(r'[()-]', '')\n",
            "<ipython-input-12-9feed73d5c7e>:5: FutureWarning: The default value of regex will change from True to False in a future version.\n",
            "  df_participant['cleaned_phone_number'] = df_participant['cleaned_phone_number'].str.replace(r'\\s+', '')\n"
          ]
        }
      ]
    },
    {
      "cell_type": "markdown",
      "source": [
        "# Transform: V\n",
        "Create a new column named team_name. It is known that the team name is a combination of values from the first_name, last_name, country and institute columns. Using the first letter for fisrt_name, last_name, and institute as a value. Example: \n",
        "\n",
        "fisrt_name: Wildan <br>\n",
        "last_name: Musyaffa <br>\n",
        "country: Indonesia <br>\n",
        "institute: Universitas Padjadjaran\n",
        "\n",
        "team_name: WM-Indonesia-UP"
      ],
      "metadata": {
        "id": "KDPlYIm86U9m"
      }
    },
    {
      "cell_type": "code",
      "source": [
        "def func(col):\n",
        "    abbrev_name = \"%s%s\"%(col['first_name'][0],col['last_name'][0]) \n",
        "    country = col['country']\n",
        "    abbrev_institute = '%s'%(''.join(list(map(lambda word: word[0], col['institute'].split())))) \n",
        "    return \"%s-%s-%s\"%(abbrev_name,country,abbrev_institute)\n",
        "\n",
        "df_participant['team_name'] = df_participant.apply(func, axis=1)\n",
        "print(df_participant['team_name'].head(20))"
      ],
      "metadata": {
        "colab": {
          "base_uri": "https://localhost:8080/"
        },
        "id": "t3uhyGNO6VE-",
        "outputId": "802cdee5-a343-4886-9eaf-60be94381feb"
      },
      "execution_count": 13,
      "outputs": [
        {
          "output_type": "stream",
          "name": "stdout",
          "text": [
            "0                      CN-Georgia-UPM\n",
            "1                   AS-Korea Utara-UD\n",
            "2                       CH-Komoro-UHP\n",
            "3                      SR-Eritrea-PTY\n",
            "4                     VA-Aljazair-PHR\n",
            "5                       BM-Zambia-CMH\n",
            "6                        TM-Libya-UIW\n",
            "7     DG-Republik Demokratik Kongo-PP\n",
            "8                       ZP-Gambia-UBS\n",
            "9                        CH-Palau-PPP\n",
            "10                    VY-Finlandia-UJ\n",
            "11                        YD-Mali-PAG\n",
            "12                      NH-Ghana-UKWM\n",
            "13                 KS-Uzbekistan-UMSU\n",
            "14                    MU-Botswana-UNS\n",
            "15                      KS-Gambia-PNL\n",
            "16                         KW-Iran-UH\n",
            "17               SD-Sudan Selatan-UBH\n",
            "18                   AU-Indonesia-UMM\n",
            "19                     HA-Georgia-UAI\n",
            "Name: team_name, dtype: object\n"
          ]
        }
      ]
    },
    {
      "cell_type": "markdown",
      "source": [
        "# Transform: VI\n",
        "Create email column with given rules:\n",
        "\n",
        "Format email: xxyy@aa.bb.[ac/com].[cc] <br>\n",
        "Information: <br>\n",
        "xx -> first name (first_name) in lowercase <br>\n",
        "yy -> last name (last_name) in lowercase <br>\n",
        "aa -> institution name\n",
        "\n",
        "For bb and cc values follow the value of aa. The rules:\n",
        "- If the institution is a University, then\n",
        "   bb -> the combination of the first letters of each word of the university name in lowercase\n",
        "   Then, followed by .ac indicating the academy/study institution and followed by the cc pattern\n",
        "- If the institution is not a University, then\n",
        "   bb -> the combination of the first letters of each word of the institution name in lowercase\n",
        "   Then, followed by .com. Please note that the cc pattern does not apply to this condition\n",
        "\n",
        "cc -> is the country of origin of the participant, as for the rules:\n",
        "- If the number of words in that country is more than 1 then take the abbreviation of that country in lowercase\n",
        "- However, if the number of words is only 1 then take the first 3 letters of the country in lowercase\n",
        "\n",
        "Example: <br>\n",
        "fisrt_name: Wildan <br>\n",
        "last_name: Musyaffa <br>\n",
        "country: Indonesia <br>\n",
        "institute: Universitas Padjadjaran <br>\n",
        "Then, the email: `wildanmusyaffa@up.ac.ind`\n",
        "\n",
        "---\n",
        "\n",
        "fisrt_name: Hanif <br>\n",
        "last_name: Nadliw <br>\n",
        "country: Indonesia <br>\n",
        "institute: Mining Industry Indonesia <br>\n",
        "Then, the email: `hanifnadliw@mii.com`"
      ],
      "metadata": {
        "id": "EtlU4m_I6qlX"
      }
    },
    {
      "cell_type": "code",
      "source": [
        "# Fungsi membuat email. \n",
        "def func(col):\n",
        "    first_name_lower = col['first_name'].lower()\n",
        "    last_name_lower = col['last_name'].lower()\n",
        "    institute = ''.join(list(map(lambda word: word[0], col['institute'].lower().split()))) #Singkatan dari nama perusahaan dalam lowercase\n",
        "\n",
        "    if 'Universitas' in col['institute']:\n",
        "        if len(col['country'].split()) > 1: #Kondisi untuk mengecek apakah jumlah kata dari country lebih dari 1\n",
        "            country = ''.join(list(map(lambda word: word[0], col['country'].lower().split())))\n",
        "        else:\n",
        "            country = col['country'][:3].lower()\n",
        "        return \"%s%s@%s.ac.%s\"%(first_name_lower,last_name_lower,institute,country)\n",
        "\n",
        "    return \"%s%s@%s.com\"%(first_name_lower,last_name_lower,institute)\n",
        "\n",
        "df_participant['email'] = df_participant.apply(func, axis=1)\n",
        "print(df_participant['email'].head(20))"
      ],
      "metadata": {
        "colab": {
          "base_uri": "https://localhost:8080/"
        },
        "id": "aNkovuMe6quc",
        "outputId": "df414fed-9725-4282-cfae-4ba4f7a9fbd8"
      },
      "execution_count": 14,
      "outputs": [
        {
          "output_type": "stream",
          "name": "stdout",
          "text": [
            "0         citranurdiyanti@upm.com\n",
            "1           arissetiawan@ud.ac.ku\n",
            "2       corneliahandayani@uhp.com\n",
            "3             solehrajasa@pty.com\n",
            "4              viviastuti@phr.com\n",
            "5     bahuraksamangunsong@cmh.com\n",
            "6            tiaramaryati@uiw.com\n",
            "7             dimazgunarto@pp.com\n",
            "8        zizipuspasari@ubs.ac.gam\n",
            "9           cecepharyanto@ppp.com\n",
            "10        vanyayuliarti@uj.ac.fin\n",
            "11           yahyadamanik@pag.com\n",
            "12     nataliahartati@ukwm.ac.gha\n",
            "13     karjasihombing@umsu.ac.uzb\n",
            "14          mariautami@uns.ac.bot\n",
            "15          kalimsimbolon@pnl.com\n",
            "16            keziawahyuni@uh.com\n",
            "17       saifuldongoran@ubh.ac.ss\n",
            "18            aniutami@umm.ac.ind\n",
            "19      heruanggriawan@uai.ac.geo\n",
            "Name: email, dtype: object\n"
          ]
        }
      ]
    },
    {
      "cell_type": "markdown",
      "source": [
        "# Transform: VII\n",
        "Format the birth_date column to YYYY-MM-DD and store it in the same column."
      ],
      "metadata": {
        "id": "RZ8j0tNr6u9k"
      }
    },
    {
      "cell_type": "code",
      "source": [
        "# Ubah ke datetime\n",
        "df_participant['birth_date'] = pd.to_datetime(df_participant['birth_date'], format='%d %b %Y')\n",
        "print(df_participant['birth_date'].head(20))"
      ],
      "metadata": {
        "colab": {
          "base_uri": "https://localhost:8080/"
        },
        "id": "ZR4Y05o26vE9",
        "outputId": "77833f13-f219-47d0-80a2-cbce6829c764"
      },
      "execution_count": 15,
      "outputs": [
        {
          "output_type": "stream",
          "name": "stdout",
          "text": [
            "0    1991-02-05\n",
            "1    1993-01-11\n",
            "2    1993-07-31\n",
            "3    1991-11-04\n",
            "4    2003-01-22\n",
            "5    1997-11-13\n",
            "6    1994-03-10\n",
            "7    2000-02-16\n",
            "8    2002-04-11\n",
            "9    1994-01-15\n",
            "10   1998-04-09\n",
            "11   1993-06-30\n",
            "12   1992-10-03\n",
            "13   1998-02-14\n",
            "14   2002-10-30\n",
            "15   1995-05-19\n",
            "16   1992-11-20\n",
            "17   1992-09-01\n",
            "18   1997-01-06\n",
            "19   1992-04-14\n",
            "Name: birth_date, dtype: datetime64[ns]\n"
          ]
        }
      ]
    },
    {
      "cell_type": "markdown",
      "source": [
        "# Transform: VIII\n",
        "Change register_time to DATETIME format according to the rules from MySQL. Save the results to the register_at column. An example: 2021-04-07 15:10:55"
      ],
      "metadata": {
        "id": "702RFMp47f_v"
      }
    },
    {
      "cell_type": "code",
      "source": [
        "# ubah ke datetime\n",
        "df_participant['register_at'] = pd.to_datetime(df_participant['register_time'], unit='s')\n",
        "print(df_participant['register_at'].head(20))"
      ],
      "metadata": {
        "colab": {
          "base_uri": "https://localhost:8080/"
        },
        "id": "I2JDgOAf7gF6",
        "outputId": "daf2d240-1909-4d86-85c8-8d43b29d2df4"
      },
      "execution_count": 16,
      "outputs": [
        {
          "output_type": "stream",
          "name": "stdout",
          "text": [
            "0    2021-04-05 14:47:26\n",
            "1    2021-04-05 14:46:58\n",
            "2    2021-04-05 14:47:15\n",
            "3    2021-04-05 14:47:14\n",
            "4    2021-04-05 14:46:50\n",
            "5    2021-04-05 14:46:04\n",
            "6    2021-04-05 14:46:22\n",
            "7    2021-04-05 14:45:30\n",
            "8    2021-04-05 14:45:50\n",
            "9    2021-04-05 14:46:54\n",
            "10   2021-04-05 14:46:54\n",
            "11   2021-04-05 14:45:53\n",
            "12   2021-04-05 14:45:52\n",
            "13   2021-04-05 14:46:37\n",
            "14   2021-04-05 14:46:32\n",
            "15   2021-04-05 14:46:40\n",
            "16   2021-04-05 14:47:17\n",
            "17   2021-04-05 14:45:50\n",
            "18   2021-04-05 14:46:21\n",
            "19   2021-04-05 14:45:47\n",
            "Name: register_at, dtype: datetime64[ns]\n"
          ]
        }
      ]
    },
    {
      "cell_type": "markdown",
      "source": [
        "# Dataset after transform process\n",
        "Your dataset currently contains the columns:\n",
        "\n",
        "- participant_id: ID of the hackathon participant. This column is unique so that participants must have different IDs\n",
        "- first_name: participant's first name\n",
        "- last_name: participant's last name\n",
        "- birth_date: participant's date of birth (formatted to YYYY-MM-DD)\n",
        "- address: the participant's residential address\n",
        "- phone_number: Participant's cellphone/phone number\n",
        "- country: the participant's country of origin\n",
        "- institute: current participating institution, can be a company name or university name\n",
        "- occupation: the participant's current occupation\n",
        "- register_time: the time the participant registers for the hackathon in seconds\n",
        "- team_name: the name of the participating team (a combination of first name, last name, country and institution)\n",
        "- postal_code: postal code of the participant's address (taken from the address field)\n",
        "- city: city of the participant (taken from the address field)\n",
        "- github_profile: link to the participant's github profile (a combination of - - first name and last name)\n",
        "- email: participant's email address (a combination of first name, last name, - institution and country)\n",
        "- cleaned_phone_number: participant's cellphone/phone number (already more in line with the telephone number format)\n",
        "- register_at: date and time the participant registers (already in DATETIME format)"
      ],
      "metadata": {
        "id": "ztfmkIP27i2k"
      }
    },
    {
      "cell_type": "code",
      "source": [
        "print(df_participant.head(10))"
      ],
      "metadata": {
        "colab": {
          "base_uri": "https://localhost:8080/"
        },
        "id": "tItzsf-I7i91",
        "outputId": "c406132a-c697-4537-9833-5f9ba3874f9b"
      },
      "execution_count": 17,
      "outputs": [
        {
          "output_type": "stream",
          "name": "stdout",
          "text": [
            "                         participant_id first_name   last_name birth_date  \\\n",
            "0  bd9b6f88-b84f-4c4d-90f8-b67fe2f1a29a      Citra  Nurdiyanti 1991-02-05   \n",
            "1  7dfe3391-6f40-47b6-b4db-0c76ebaf5fc3       Aris    Setiawan 1993-01-11   \n",
            "2  19582d7f-b824-4fe5-a517-d5bf573fc768   Cornelia   Handayani 1993-07-31   \n",
            "3  aeb6d817-25f3-4867-8a74-8d92e0a0f633      Soleh      Rajasa 1991-11-04   \n",
            "4  1fdabdd9-5444-4c97-87b2-fe8833ad0d27       Vivi      Astuti 2003-01-22   \n",
            "5  f1e8749d-6dec-4ede-be25-efb31ce80f99  Bahuraksa  Mangunsong 1997-11-13   \n",
            "6  707219fa-cb0b-467c-ad32-e99c61603020      Tiara     Maryati 1994-03-10   \n",
            "7  bc4e9cc3-f49b-40a2-905c-3e9dcf3af958      Dimaz     Gunarto 2000-02-16   \n",
            "8  7ca0a2e8-bab0-42a3-b6aa-ef4df35c7800       Zizi   Puspasari 2002-04-11   \n",
            "9  7db879a6-eae5-4cf3-87da-c452df8e99c1      Cecep    Haryanto 1994-01-15   \n",
            "\n",
            "                                             address        phone_number  \\\n",
            "0           Gg. Monginsidi No. 08\\nMedan, Aceh 80734     (0151) 081 2706   \n",
            "1     Gg. Rajawali Timur No. 7\\nPrabumulih, MA 09434  +62 (036) 461 7027   \n",
            "2             Jalan Kebonjati No. 0\\nAmbon, SS 57739        089 833 6695   \n",
            "3    Jl. Yos Sudarso No. 109\\nLubuklinggau, SR 76156  +62 (418) 329-4756   \n",
            "4  Jalan Gardujati No. 53\\nKediri, Sulawesi Tenga...           812511835   \n",
            "5       Jl. Pacuan Kuda No. 58\\nDenpasar, Aceh 00880   +62 (11) 369-7082   \n",
            "6          Gg. Cihampelas No. 4\\nSamarinda, KT 48108     (0244) 430 7220   \n",
            "7           Gg. Sukabumi No. 7\\nParepare, Bali 64255  +62 (056) 931-9059   \n",
            "8                   Gg. Peta No. 01\\nMedan, BE 89056   +62 (11) 826-1289   \n",
            "9  Jalan Cempaka No. 8\\nBitung, Kalimantan Barat ...   +62 (86) 156 1327   \n",
            "\n",
            "                     country                         institute  \\\n",
            "0                    Georgia              UD Prakasa Mandasari   \n",
            "1                Korea Utara            Universitas Diponegoro   \n",
            "2                     Komoro          UD Hardiansyah Puspasari   \n",
            "3                    Eritrea         Perum Tampubolon Yuliarti   \n",
            "4                   Aljazair            PT Hardiansyah Rahimah   \n",
            "5                     Zambia             CV Mardhiyah Haryanto   \n",
            "6                      Libya                 UD Irawan Wahyuni   \n",
            "7  Republik Demokratik Kongo                   Perum Purnawati   \n",
            "8                     Gambia  Universitas Bhayangkara Surabaya   \n",
            "9                      Palau           PD Pudjiastuti Palastri   \n",
            "\n",
            "                       occupation  register_time postal_code          city  \\\n",
            "0  Business Intelligence Engineer     1617634046       80734         Medan   \n",
            "1               Frontend Engineer     1617634018       09434    Prabumulih   \n",
            "2                Business Analyst     1617634035       57739         Ambon   \n",
            "3                 DevOps Engineer     1617634034       76156  Lubuklinggau   \n",
            "4                    Data Analyst     1617634010       70074        Kediri   \n",
            "5                Business Analyst     1617633964       00880      Denpasar   \n",
            "6                 Product Analyst     1617633982       48108     Samarinda   \n",
            "7                  Data Scientist     1617633930       64255      Parepare   \n",
            "8                    Data Analyst     1617633950       89056         Medan   \n",
            "9              Fullstack Engineer     1617634014       51825        Bitung   \n",
            "\n",
            "                           github_profile cleaned_phone_number  \\\n",
            "0      https://github.com/citranurdiyanti          01510812706   \n",
            "1         https://github.com/arissetiawan          00364617027   \n",
            "2    https://github.com/corneliahandayani           0898336695   \n",
            "3          https://github.com/solehrajasa          04183294756   \n",
            "4           https://github.com/viviastuti            812511835   \n",
            "5  https://github.com/bahuraksamangunsong           0113697082   \n",
            "6         https://github.com/tiaramaryati          02444307220   \n",
            "7         https://github.com/dimazgunarto          00569319059   \n",
            "8        https://github.com/zizipuspasari           0118261289   \n",
            "9        https://github.com/cecepharyanto           0861561327   \n",
            "\n",
            "                         team_name                        email  \\\n",
            "0                   CN-Georgia-UPM      citranurdiyanti@upm.com   \n",
            "1                AS-Korea Utara-UD        arissetiawan@ud.ac.ku   \n",
            "2                    CH-Komoro-UHP    corneliahandayani@uhp.com   \n",
            "3                   SR-Eritrea-PTY          solehrajasa@pty.com   \n",
            "4                  VA-Aljazair-PHR           viviastuti@phr.com   \n",
            "5                    BM-Zambia-CMH  bahuraksamangunsong@cmh.com   \n",
            "6                     TM-Libya-UIW         tiaramaryati@uiw.com   \n",
            "7  DG-Republik Demokratik Kongo-PP          dimazgunarto@pp.com   \n",
            "8                    ZP-Gambia-UBS     zizipuspasari@ubs.ac.gam   \n",
            "9                     CH-Palau-PPP        cecepharyanto@ppp.com   \n",
            "\n",
            "          register_at  \n",
            "0 2021-04-05 14:47:26  \n",
            "1 2021-04-05 14:46:58  \n",
            "2 2021-04-05 14:47:15  \n",
            "3 2021-04-05 14:47:14  \n",
            "4 2021-04-05 14:46:50  \n",
            "5 2021-04-05 14:46:04  \n",
            "6 2021-04-05 14:46:22  \n",
            "7 2021-04-05 14:45:30  \n",
            "8 2021-04-05 14:45:50  \n",
            "9 2021-04-05 14:46:54  \n"
          ]
        }
      ]
    },
    {
      "cell_type": "markdown",
      "source": [
        "# Load\n",
        "With pandas, we can directly insert the data into the database using its built-in function, namely ***to_sql()***"
      ],
      "metadata": {
        "id": "xRCWRnIz4BY6"
      }
    }
  ]
}